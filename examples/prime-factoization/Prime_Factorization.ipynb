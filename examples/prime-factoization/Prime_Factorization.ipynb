{
 "cells": [
  {
   "cell_type": "code",
   "execution_count": 21,
   "id": "14a17f9e",
   "metadata": {},
   "outputs": [
    {
     "name": "stdout",
     "output_type": "stream",
     "text": [
      "h vector and J matrix have been saved to h_vector.mat and J_matrix.mat respectively.\n"
     ]
    }
   ],
   "source": [
    "import numpy as np\n",
    "import dimod\n",
    "from scipy.io import savemat\n",
    "\n",
    "def factorize_integer(P):\n",
    "    # Define the QUBO dictionary\n",
    "    Q = {}\n",
    "\n",
    "    # Define the weights for the binary representation\n",
    "    a_coeffs = [1, 2, 4, 8]\n",
    "    b_coeffs = [1, 2, 4]\n",
    "\n",
    "    # Fill the QUBO dictionary with the coefficients from the expansion\n",
    "    for i in range(len(a_coeffs)):\n",
    "        for j in range(len(b_coeffs)):\n",
    "            Q[(f'a{i}', f'b{j}')] = a_coeffs[i] * b_coeffs[j]\n",
    "\n",
    "    # Add the constraint term for P\n",
    "    for i in range(len(a_coeffs)):\n",
    "        Q[(f'a{i}', f'a{i}')] = Q.get((f'a{i}', f'a{i}'), 0) - P * a_coeffs[i]**2\n",
    "    for i in range(len(b_coeffs)):\n",
    "        Q[(f'b{i}', f'b{i}')] = Q.get((f'b{i}', f'b{i}'), 0) - P * b_coeffs[i]**2\n",
    "\n",
    "    # Create a BinaryQuadraticModel from the QUBO dictionary\n",
    "    bqm = dimod.BinaryQuadraticModel.from_qubo(Q)\n",
    "\n",
    "    # Convert the QUBO to Ising model\n",
    "    h, J, offset = bqm.to_ising()\n",
    "\n",
    "    return h, J\n",
    "\n",
    "# Define the product to be factored\n",
    "P = 15\n",
    "\n",
    "# Get the Ising model parameters\n",
    "h, J = factorize_integer(P)\n",
    "\n",
    "# Get all variables\n",
    "variables = sorted(h.keys())\n",
    "\n",
    "# Prepare the local biases vector\n",
    "h_vector = np.array([h[v] for v in variables])\n",
    "\n",
    "# Prepare the coupling matrix\n",
    "J_matrix = np.zeros((len(variables), len(variables)))\n",
    "for (k1, k2), v in J.items():\n",
    "    i = variables.index(k1)\n",
    "    j = variables.index(k2)\n",
    "    J_matrix[i, j] = v\n",
    "    J_matrix[j, i] = v  # J is symmetric\n",
    "\n",
    "# Save h and J to separate .mat files\n",
    "savemat('h_vector.mat', {'h': h_vector})\n",
    "savemat('J_matrix.mat', {'J': J_matrix})\n",
    "\n",
    "print(\"h vector and J matrix have been saved to h_vector.mat and J_matrix.mat respectively.\")\n"
   ]
  },
  {
   "cell_type": "code",
   "execution_count": 22,
   "id": "26210650",
   "metadata": {},
   "outputs": [
    {
     "data": {
      "text/plain": [
       "{('b0', 'a0'): 0.25,\n",
       " ('b1', 'a0'): 0.5,\n",
       " ('b2', 'a0'): 1.0,\n",
       " ('a1', 'b0'): 0.5,\n",
       " ('a1', 'b1'): 1.0,\n",
       " ('a1', 'b2'): 2.0,\n",
       " ('a2', 'b0'): 1.0,\n",
       " ('a2', 'b1'): 2.0,\n",
       " ('a2', 'b2'): 4.0,\n",
       " ('a3', 'b0'): 2.0,\n",
       " ('a3', 'b1'): 4.0,\n",
       " ('a3', 'b2'): 8.0}"
      ]
     },
     "execution_count": 22,
     "metadata": {},
     "output_type": "execute_result"
    }
   ],
   "source": [
    "J"
   ]
  },
  {
   "cell_type": "code",
   "execution_count": 23,
   "id": "b994c341",
   "metadata": {},
   "outputs": [
    {
     "data": {
      "text/plain": [
       "{'a0': -5.75,\n",
       " 'b0': -3.75,\n",
       " 'b1': -22.5,\n",
       " 'b2': -105.0,\n",
       " 'a1': -26.5,\n",
       " 'a2': -113.0,\n",
       " 'a3': -466.0}"
      ]
     },
     "execution_count": 23,
     "metadata": {},
     "output_type": "execute_result"
    }
   ],
   "source": [
    "h"
   ]
  },
  {
   "cell_type": "code",
   "execution_count": 26,
   "id": "0dc5be8d",
   "metadata": {},
   "outputs": [
    {
     "name": "stdout",
     "output_type": "stream",
     "text": [
      "h vector and J matrix have been saved to h_vector.mat and J_matrix.mat respectively.\n"
     ]
    }
   ],
   "source": [
    "import numpy as np\n",
    "import dimod\n",
    "from scipy.io import savemat\n",
    "\n",
    "def factorize_integer(P, p, q):\n",
    "    # Define the QUBO dictionary\n",
    "    Q = {}\n",
    "\n",
    "    # Define the weights for the binary representation\n",
    "    a_coeffs = [1] + [2**i for i in range(1, p)]\n",
    "    b_coeffs = [1] + [2**i for i in range(1, q)]\n",
    "\n",
    "    # Fill the QUBO dictionary with the coefficients from the expansion\n",
    "    for i in range(len(a_coeffs)):\n",
    "        for j in range(len(b_coeffs)):\n",
    "            Q[(f'a{i}', f'b{j}')] = a_coeffs[i] * b_coeffs[j]\n",
    "\n",
    "    # Add the constraint term for P\n",
    "    for i in range(len(a_coeffs)):\n",
    "        Q[(f'a{i}', f'a{i}')] = Q.get((f'a{i}', f'a{i}'), 0) - P * a_coeffs[i]**2\n",
    "    for i in range(len(b_coeffs)):\n",
    "        Q[(f'b{i}', f'b{i}')] = Q.get((f'b{i}', f'b{i}'), 0) - P * b_coeffs[i]**2\n",
    "\n",
    "    # Create a BinaryQuadraticModel from the QUBO dictionary\n",
    "    bqm = dimod.BinaryQuadraticModel.from_qubo(Q)\n",
    "\n",
    "    # Convert the QUBO to Ising model\n",
    "    h, J, offset = bqm.to_ising()\n",
    "\n",
    "    return h, J\n",
    "\n",
    "# Define the product to be factored\n",
    "P = 15\n",
    "       \n",
    "# Define the number of coefficients for a and b\n",
    "p = 3  # Number of coefficients for a\n",
    "q = 3  # Number of coefficients for b\n",
    "\n",
    "# Get the Ising model parameters\n",
    "h, J = factorize_integer(P, p, q)\n",
    "\n",
    "# Get all variables\n",
    "variables = sorted(h.keys())\n",
    "\n",
    "# Prepare the local biases vector\n",
    "h_vector = np.array([h[v] for v in variables])\n",
    "\n",
    "# Prepare the coupling matrix\n",
    "J_matrix = np.zeros((len(variables), len(variables)))\n",
    "for (k1, k2), v in J.items():\n",
    "    i = variables.index(k1)\n",
    "    j = variables.index(k2)\n",
    "    J_matrix[i, j] = v\n",
    "    J_matrix[j, i] = v  # J is symmetric\n",
    "\n",
    "# Save h and J to separate .mat files\n",
    "savemat('h_vector_15.mat', {'h': h_vector})\n",
    "savemat('J_matrix_15.mat', {'J': J_matrix})\n",
    "\n",
    "print(\"h vector and J matrix have been saved to h_vector.mat and J_matrix.mat respectively.\")\n"
   ]
  },
  {
   "cell_type": "code",
   "execution_count": 74,
   "id": "83426bca",
   "metadata": {},
   "outputs": [
    {
     "name": "stdout",
     "output_type": "stream",
     "text": [
      "h vector and J matrix have been saved to h_vector.mat and J_matrix.mat respectively.\n"
     ]
    }
   ],
   "source": [
    "import numpy as np\n",
    "import dimod\n",
    "from scipy.io import savemat\n",
    "\n",
    "def factorize_integer(P, p, q):\n",
    "    # Define the QUBO dictionary\n",
    "    Q = {}\n",
    "\n",
    "    # Define the weights for the binary representation\n",
    "    a_coeffs = [1] + [2**i for i in range(1, p)]\n",
    "    b_coeffs = [1] + [2**i for i in range(1, q)]\n",
    "\n",
    "    # Fill the QUBO dictionary with the coefficients from the expansion\n",
    "    for i in range(len(a_coeffs)):\n",
    "        for j in range(len(b_coeffs)):\n",
    "            Q[(f'a{i}', f'b{j}')] = a_coeffs[i] * b_coeffs[j]\n",
    "\n",
    "    # Add the constraint term for P\n",
    "    for i in range(len(a_coeffs)):\n",
    "        Q[(f'a{i}', f'a{i}')] = Q.get((f'a{i}', f'a{i}'), 0) - P * a_coeffs[i]**2\n",
    "    for i in range(len(b_coeffs)):\n",
    "        Q[(f'b{i}', f'b{i}')] = Q.get((f'b{i}', f'b{i}'), 0) - P * b_coeffs[i]**2\n",
    "\n",
    "    # Create a BinaryQuadraticModel from the QUBO dictionary\n",
    "    bqm = dimod.BinaryQuadraticModel.from_qubo(Q)\n",
    "\n",
    "    # Convert the QUBO to Ising model\n",
    "    h, J, offset = bqm.to_ising()\n",
    "\n",
    "    return h, J\n",
    "\n",
    "# Define the product to be factored\n",
    "P = 15\n",
    "\n",
    "# Define the number of coefficients for a and b\n",
    "p = 3  # Number of coefficients for a\n",
    "q = 3 # Number of coefficients for b\n",
    "\n",
    "# Get the Ising model parameters\n",
    "h, J = factorize_integer(P, p, q)\n",
    "\n",
    "# Get all variables\n",
    "variables = sorted(h.keys())\n",
    "\n",
    "# Prepare the local biases vector\n",
    "h_vector = np.array([h[v] for v in variables])\n",
    "\n",
    "# Prepare the coupling matrix\n",
    "J_matrix = np.zeros((len(variables), len(variables)))\n",
    "for (k1, k2), v in J.items():\n",
    "    i = variables.index(k1)\n",
    "    j = variables.index(k2)\n",
    "    J_matrix[i, j] = v\n",
    "    J_matrix[j, i] = v  # J is symmetric\n",
    "\n",
    "# Save h and J to separate .mat files\n",
    "savemat('h_vector_15.mat', {'h': h_vector})\n",
    "savemat('J_matrix_15.mat', {'J': J_matrix})\n",
    "\n",
    "print(\"h vector and J matrix have been saved to h_vector.mat and J_matrix.mat respectively.\")\n"
   ]
  },
  {
   "cell_type": "code",
   "execution_count": 75,
   "id": "80213ce2",
   "metadata": {},
   "outputs": [
    {
     "data": {
      "text/plain": [
       "array([[0.  , 0.  , 0.  , 0.25, 0.5 , 1.  ],\n",
       "       [0.  , 0.  , 0.  , 0.5 , 1.  , 2.  ],\n",
       "       [0.  , 0.  , 0.  , 1.  , 2.  , 4.  ],\n",
       "       [0.25, 0.5 , 1.  , 0.  , 0.  , 0.  ],\n",
       "       [0.5 , 1.  , 2.  , 0.  , 0.  , 0.  ],\n",
       "       [1.  , 2.  , 4.  , 0.  , 0.  , 0.  ]])"
      ]
     },
     "execution_count": 75,
     "metadata": {},
     "output_type": "execute_result"
    }
   ],
   "source": [
    "J_matrix"
   ]
  },
  {
   "cell_type": "code",
   "execution_count": 76,
   "id": "83054f0c",
   "metadata": {},
   "outputs": [
    {
     "data": {
      "text/plain": [
       "array([  -5.75,  -26.5 , -113.  ,   -5.75,  -26.5 , -113.  ])"
      ]
     },
     "execution_count": 76,
     "metadata": {},
     "output_type": "execute_result"
    }
   ],
   "source": [
    "h_vector"
   ]
  }
 ],
 "metadata": {
  "kernelspec": {
   "display_name": "Python 3 (ipykernel)",
   "language": "python",
   "name": "python3"
  },
  "language_info": {
   "codemirror_mode": {
    "name": "ipython",
    "version": 3
   },
   "file_extension": ".py",
   "mimetype": "text/x-python",
   "name": "python",
   "nbconvert_exporter": "python",
   "pygments_lexer": "ipython3",
   "version": "3.10.8"
  }
 },
 "nbformat": 4,
 "nbformat_minor": 5
}
