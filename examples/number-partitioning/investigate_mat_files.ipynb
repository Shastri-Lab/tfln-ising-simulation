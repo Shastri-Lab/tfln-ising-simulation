{
 "cells": [
  {
   "cell_type": "code",
   "execution_count": 1,
   "metadata": {},
   "outputs": [],
   "source": [
    "import os\n",
    "import scipy.io as sio\n",
    "import numpy as np\n",
    "\n",
    "# Define the directory where mat files are stored\n",
    "mat_files_dir = 'mat_files'\n",
    "\n",
    "# Get a list of all .mat files in the directory\n",
    "mat_files = [f for f in os.listdir(mat_files_dir) if f.endswith('.mat')]\n",
    "\n",
    "# Loop through each .mat file and load its contents\n",
    "file_contents = {}\n",
    "for mat_file in mat_files:\n",
    "    file_path = os.path.join(mat_files_dir, mat_file)\n",
    "    mat_contents = sio.loadmat(file_path)\n",
    "    file_contents[mat_file] = mat_contents\n"
   ]
  },
  {
   "cell_type": "code",
   "execution_count": 2,
   "metadata": {},
   "outputs": [
    {
     "name": "stdout",
     "output_type": "stream",
     "text": [
      "['numberPartitioning_64N.mat', 'numberPartitioning_32N.mat', 'numberPartitioning_128N.mat', 'numberPartitioning_256N.mat', 'numberPartitioning_16N.mat']\n"
     ]
    }
   ],
   "source": [
    "print(list(file_contents.keys()))"
   ]
  },
  {
   "cell_type": "code",
   "execution_count": 4,
   "metadata": {},
   "outputs": [
    {
     "name": "stdout",
     "output_type": "stream",
     "text": [
      "J: [[0.       0.078125 0.078125 ... 0.625    0.625    0.625   ]\n",
      " [0.078125 0.       0.015625 ... 0.125    0.125    0.125   ]\n",
      " [0.078125 0.015625 0.       ... 0.125    0.125    0.125   ]\n",
      " ...\n",
      " [0.625    0.125    0.125    ... 0.       1.       1.      ]\n",
      " [0.625    0.125    0.125    ... 1.       0.       1.      ]\n",
      " [0.625    0.125    0.125    ... 1.       1.       0.      ]]\n",
      "nset: [[0.625 0.125 0.125 1.    0.75  0.125 0.625 1.    0.25  1.    0.625 0.5\n",
      "  0.25  0.125 0.75  0.125 0.625 0.375 0.5   0.125 0.125 0.75  0.75  0.75\n",
      "  0.375 0.125 0.875 0.25  0.25  0.125 0.375 0.5   0.75  0.875 0.375 0.625\n",
      "  0.25  0.5   0.625 0.25  0.25  0.125 0.625 0.25  0.25  0.625 0.125 1.\n",
      "  0.375 0.5   0.125 0.25  0.25  0.25  1.    0.25  0.375 1.    0.75  0.625\n",
      "  0.625 1.    1.    1.   ]]\n"
     ]
    }
   ],
   "source": [
    "content = file_contents['numberPartitioning_64N.mat']\n",
    "\n",
    "# print J and nset nicely labelled for printing\n",
    "print(f\"J: {content['J']}\")\n",
    "print(f\"nset: {content['nset']}\")"
   ]
  },
  {
   "cell_type": "code",
   "execution_count": null,
   "metadata": {},
   "outputs": [],
   "source": []
  }
 ],
 "metadata": {
  "kernelspec": {
   "display_name": "dwave",
   "language": "python",
   "name": "python3"
  },
  "language_info": {
   "codemirror_mode": {
    "name": "ipython",
    "version": 3
   },
   "file_extension": ".py",
   "mimetype": "text/x-python",
   "name": "python",
   "nbconvert_exporter": "python",
   "pygments_lexer": "ipython3",
   "version": "3.12.5"
  }
 },
 "nbformat": 4,
 "nbformat_minor": 2
}
